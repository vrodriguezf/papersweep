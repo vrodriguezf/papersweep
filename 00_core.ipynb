{
 "cells": [
  {
   "cell_type": "code",
   "execution_count": 1,
   "metadata": {},
   "outputs": [],
   "source": [
    "# default_exp core"
   ]
  },
  {
   "cell_type": "markdown",
   "metadata": {},
   "source": [
    "# papersweep\n",
    "\n",
    "> Combining papermill and wandb sweeps for fricitionless experimebnts with Jupyter notebooks"
   ]
  },
  {
   "cell_type": "code",
   "execution_count": 2,
   "metadata": {},
   "outputs": [],
   "source": [
    "#hide\n",
    "from nbdev.showdoc import *"
   ]
  },
  {
   "cell_type": "code",
   "execution_count": 39,
   "metadata": {},
   "outputs": [],
   "source": [
    "#export\n",
    "from fastcore.all import *\n",
    "import yaml\n",
    "import wandb\n",
    "import papermill as pm"
   ]
  },
  {
   "cell_type": "code",
   "execution_count": 44,
   "metadata": {},
   "outputs": [],
   "source": [
    "@call_parse\n",
    "def papersweep(input_nb:Param(\"Input notebook\", str),\n",
    "               sweep_config:Param(\"YAML file with the sweep config\", str), \n",
    "               entity:Param(\"wandb entity\", str), \n",
    "               project:Param(\"wandb project\", str),\n",
    "               pm_params:Param(\"YAML file with papermill parameters\", str)=None):\n",
    "    with maybe_open(sweep_config, 'r') as f:\n",
    "        sc = yaml.safe_load(f)\n",
    "    if pm_params:\n",
    "        with maybe_open(pm_params, 'r') as f:\n",
    "            rc = yaml.safe_load(f)\n",
    "    sweep_id = wandb.sweep(sc)\n",
    "    wandb.agent(sweep_id, \n",
    "                entity=entity,\n",
    "                project=project,\n",
    "                function=partial(pm.execute_notebook, \n",
    "                             input_path=input_path, \n",
    "                             output_path='__.ipynb', \n",
    "                             parameters=run_params))"
   ]
  },
  {
   "cell_type": "markdown",
   "metadata": {},
   "source": [
    "Try the function with offline wandb"
   ]
  },
  {
   "cell_type": "code",
   "execution_count": null,
   "metadata": {},
   "outputs": [],
   "source": []
  }
 ],
 "metadata": {
  "kernelspec": {
   "display_name": "Python 3",
   "language": "python",
   "name": "python3"
  },
  "language_info": {
   "codemirror_mode": {
    "name": "ipython",
    "version": 3
   },
   "file_extension": ".py",
   "mimetype": "text/x-python",
   "name": "python",
   "nbconvert_exporter": "python",
   "pygments_lexer": "ipython3",
   "version": "3.6.9"
  }
 },
 "nbformat": 4,
 "nbformat_minor": 4
}
