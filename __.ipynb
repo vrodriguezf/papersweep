{
 "cells": [
  {
   "cell_type": "markdown",
   "metadata": {
    "papermill": {
     "duration": 0.013689,
     "end_time": "2020-11-26T16:17:04.526224",
     "exception": false,
     "start_time": "2020-11-26T16:17:04.512535",
     "status": "completed"
    },
    "tags": []
   },
   "source": [
    "# Example notebook\n",
    "\n",
    "> Image classifier with fastai. Papersweep will call this notebook and run it with multiple models"
   ]
  },
  {
   "cell_type": "code",
   "execution_count": 1,
   "metadata": {
    "execution": {
     "iopub.execute_input": "2020-11-26T16:17:04.552457Z",
     "iopub.status.busy": "2020-11-26T16:17:04.551809Z",
     "iopub.status.idle": "2020-11-26T16:17:04.555709Z",
     "shell.execute_reply": "2020-11-26T16:17:04.556224Z"
    },
    "papermill": {
     "duration": 0.018347,
     "end_time": "2020-11-26T16:17:04.556395",
     "exception": false,
     "start_time": "2020-11-26T16:17:04.538048",
     "status": "completed"
    },
    "tags": [
     "parameters"
    ]
   },
   "outputs": [],
   "source": [
    "# papermill parameters (this cell is tagged as 'parameters' in Jupyter)\n",
    "install_deps = True\n",
    "stable = True # True: latest version, False: stable version"
   ]
  },
  {
   "cell_type": "code",
   "execution_count": 2,
   "metadata": {
    "execution": {
     "iopub.execute_input": "2020-11-26T16:17:04.588411Z",
     "iopub.status.busy": "2020-11-26T16:17:04.587674Z",
     "iopub.status.idle": "2020-11-26T16:17:08.476722Z",
     "shell.execute_reply": "2020-11-26T16:17:08.475411Z"
    },
    "papermill": {
     "duration": 3.914696,
     "end_time": "2020-11-26T16:17:08.477031",
     "exception": false,
     "start_time": "2020-11-26T16:17:04.562335",
     "status": "completed"
    },
    "tags": []
   },
   "outputs": [
    {
     "name": "stdout",
     "output_type": "stream",
     "text": [
      "tsai       : 0.2.7\n",
      "fastai     : 2.1.7\n",
      "fastcore   : 1.3.9\n",
      "torch      : 1.7.0\n"
     ]
    }
   ],
   "source": [
    "import sys\n",
    "ISCOLAB = 'google.colab' in sys.modules\n",
    "if ISCOLAB or install_deps:\n",
    "    if stable: \n",
    "        !pip install tsai -q\n",
    "    else:\n",
    "        !pip install git+https://github.com/timeseriesAI/tsai.git -q\n",
    "    \n",
    "import tsai\n",
    "from tsai.all import *\n",
    "print('tsai       :', tsai.__version__)\n",
    "print('fastai     :', fastai.__version__)\n",
    "print('fastcore   :', fastcore.__version__)\n",
    "print('torch      :', torch.__version__)"
   ]
  },
  {
   "cell_type": "code",
   "execution_count": 3,
   "metadata": {
    "execution": {
     "iopub.execute_input": "2020-11-26T16:17:08.506025Z",
     "iopub.status.busy": "2020-11-26T16:17:08.505389Z",
     "iopub.status.idle": "2020-11-26T16:17:08.868469Z",
     "shell.execute_reply": "2020-11-26T16:17:08.866986Z"
    },
    "papermill": {
     "duration": 0.376384,
     "end_time": "2020-11-26T16:17:08.868805",
     "exception": false,
     "start_time": "2020-11-26T16:17:08.492421",
     "status": "completed"
    },
    "tags": []
   },
   "outputs": [],
   "source": [
    "import wandb\n",
    "from fastai.callback.wandb import *"
   ]
  },
  {
   "cell_type": "code",
   "execution_count": 4,
   "metadata": {
    "execution": {
     "iopub.execute_input": "2020-11-26T16:17:08.916013Z",
     "iopub.status.busy": "2020-11-26T16:17:08.914977Z",
     "iopub.status.idle": "2020-11-26T16:17:10.639882Z",
     "shell.execute_reply": "2020-11-26T16:17:10.638533Z"
    },
    "papermill": {
     "duration": 1.756002,
     "end_time": "2020-11-26T16:17:10.640219",
     "exception": false,
     "start_time": "2020-11-26T16:17:08.884217",
     "status": "completed"
    },
    "tags": []
   },
   "outputs": [],
   "source": [
    "%%capture\n",
    "wandb.init(entity=\"vrodriguezf\", project = \"papersweep\")"
   ]
  },
  {
   "cell_type": "code",
   "execution_count": 5,
   "metadata": {
    "execution": {
     "iopub.execute_input": "2020-11-26T16:17:10.674704Z",
     "iopub.status.busy": "2020-11-26T16:17:10.674113Z",
     "iopub.status.idle": "2020-11-26T16:17:10.680562Z",
     "shell.execute_reply": "2020-11-26T16:17:10.679920Z"
    },
    "papermill": {
     "duration": 0.024215,
     "end_time": "2020-11-26T16:17:10.680731",
     "exception": false,
     "start_time": "2020-11-26T16:17:10.656516",
     "status": "completed"
    },
    "tags": []
   },
   "outputs": [
    {
     "data": {
      "text/plain": [
       "'https://wandb.ai/vrodriguezf/papersweep/runs/q7uucjqf'"
      ]
     },
     "execution_count": 5,
     "metadata": {},
     "output_type": "execute_result"
    }
   ],
   "source": [
    "wandb.run.get_url()"
   ]
  },
  {
   "cell_type": "code",
   "execution_count": 6,
   "metadata": {
    "execution": {
     "iopub.execute_input": "2020-11-26T16:17:10.714336Z",
     "iopub.status.busy": "2020-11-26T16:17:10.713612Z",
     "iopub.status.idle": "2020-11-26T16:17:19.497028Z",
     "shell.execute_reply": "2020-11-26T16:17:19.498280Z"
    },
    "papermill": {
     "duration": 8.809824,
     "end_time": "2020-11-26T16:17:19.498656",
     "exception": false,
     "start_time": "2020-11-26T16:17:10.688832",
     "status": "completed"
    },
    "tags": []
   },
   "outputs": [
    {
     "name": "stdout",
     "output_type": "stream",
     "text": [
      "WandbCallback requires use of \"SaveModelCallback\" to log best model\n",
      "WandbCallback was not able to prepare a DataLoader for logging prediction samples -> tuple index out of range\n"
     ]
    },
    {
     "data": {
      "text/html": [
       "<table border=\"1\" class=\"dataframe\">\n",
       "  <thead>\n",
       "    <tr style=\"text-align: left;\">\n",
       "      <th>epoch</th>\n",
       "      <th>train_loss</th>\n",
       "      <th>valid_loss</th>\n",
       "      <th>accuracy</th>\n",
       "      <th>time</th>\n",
       "    </tr>\n",
       "  </thead>\n",
       "  <tbody>\n",
       "    <tr>\n",
       "      <td>0</td>\n",
       "      <td>1.774477</td>\n",
       "      <td>2.263812</td>\n",
       "      <td>0.294444</td>\n",
       "      <td>00:00</td>\n",
       "    </tr>\n",
       "    <tr>\n",
       "      <td>1</td>\n",
       "      <td>1.750868</td>\n",
       "      <td>1.988131</td>\n",
       "      <td>0.288889</td>\n",
       "      <td>00:00</td>\n",
       "    </tr>\n",
       "    <tr>\n",
       "      <td>2</td>\n",
       "      <td>1.647547</td>\n",
       "      <td>1.764252</td>\n",
       "      <td>0.305556</td>\n",
       "      <td>00:00</td>\n",
       "    </tr>\n",
       "    <tr>\n",
       "      <td>3</td>\n",
       "      <td>1.524360</td>\n",
       "      <td>1.531631</td>\n",
       "      <td>0.322222</td>\n",
       "      <td>00:00</td>\n",
       "    </tr>\n",
       "    <tr>\n",
       "      <td>4</td>\n",
       "      <td>1.381738</td>\n",
       "      <td>1.309899</td>\n",
       "      <td>0.538889</td>\n",
       "      <td>00:00</td>\n",
       "    </tr>\n",
       "    <tr>\n",
       "      <td>5</td>\n",
       "      <td>1.243327</td>\n",
       "      <td>1.108531</td>\n",
       "      <td>0.577778</td>\n",
       "      <td>00:00</td>\n",
       "    </tr>\n",
       "    <tr>\n",
       "      <td>6</td>\n",
       "      <td>1.121324</td>\n",
       "      <td>0.860280</td>\n",
       "      <td>0.755556</td>\n",
       "      <td>00:00</td>\n",
       "    </tr>\n",
       "    <tr>\n",
       "      <td>7</td>\n",
       "      <td>1.013188</td>\n",
       "      <td>0.647246</td>\n",
       "      <td>0.822222</td>\n",
       "      <td>00:00</td>\n",
       "    </tr>\n",
       "    <tr>\n",
       "      <td>8</td>\n",
       "      <td>0.917805</td>\n",
       "      <td>0.524953</td>\n",
       "      <td>0.827778</td>\n",
       "      <td>00:00</td>\n",
       "    </tr>\n",
       "    <tr>\n",
       "      <td>9</td>\n",
       "      <td>0.834310</td>\n",
       "      <td>0.462798</td>\n",
       "      <td>0.816667</td>\n",
       "      <td>00:00</td>\n",
       "    </tr>\n",
       "    <tr>\n",
       "      <td>10</td>\n",
       "      <td>0.763289</td>\n",
       "      <td>0.405814</td>\n",
       "      <td>0.822222</td>\n",
       "      <td>00:00</td>\n",
       "    </tr>\n",
       "    <tr>\n",
       "      <td>11</td>\n",
       "      <td>0.700954</td>\n",
       "      <td>0.344425</td>\n",
       "      <td>0.861111</td>\n",
       "      <td>00:00</td>\n",
       "    </tr>\n",
       "    <tr>\n",
       "      <td>12</td>\n",
       "      <td>0.645659</td>\n",
       "      <td>0.308854</td>\n",
       "      <td>0.877778</td>\n",
       "      <td>00:00</td>\n",
       "    </tr>\n",
       "    <tr>\n",
       "      <td>13</td>\n",
       "      <td>0.598042</td>\n",
       "      <td>0.304148</td>\n",
       "      <td>0.872222</td>\n",
       "      <td>00:00</td>\n",
       "    </tr>\n",
       "    <tr>\n",
       "      <td>14</td>\n",
       "      <td>0.553495</td>\n",
       "      <td>0.314434</td>\n",
       "      <td>0.855556</td>\n",
       "      <td>00:00</td>\n",
       "    </tr>\n",
       "    <tr>\n",
       "      <td>15</td>\n",
       "      <td>0.515135</td>\n",
       "      <td>0.306232</td>\n",
       "      <td>0.872222</td>\n",
       "      <td>00:00</td>\n",
       "    </tr>\n",
       "    <tr>\n",
       "      <td>16</td>\n",
       "      <td>0.480449</td>\n",
       "      <td>0.278918</td>\n",
       "      <td>0.877778</td>\n",
       "      <td>00:00</td>\n",
       "    </tr>\n",
       "    <tr>\n",
       "      <td>17</td>\n",
       "      <td>0.449956</td>\n",
       "      <td>0.250504</td>\n",
       "      <td>0.894444</td>\n",
       "      <td>00:00</td>\n",
       "    </tr>\n",
       "    <tr>\n",
       "      <td>18</td>\n",
       "      <td>0.422468</td>\n",
       "      <td>0.227260</td>\n",
       "      <td>0.905556</td>\n",
       "      <td>00:00</td>\n",
       "    </tr>\n",
       "    <tr>\n",
       "      <td>19</td>\n",
       "      <td>0.396037</td>\n",
       "      <td>0.217090</td>\n",
       "      <td>0.905556</td>\n",
       "      <td>00:00</td>\n",
       "    </tr>\n",
       "    <tr>\n",
       "      <td>20</td>\n",
       "      <td>0.372011</td>\n",
       "      <td>0.208797</td>\n",
       "      <td>0.905556</td>\n",
       "      <td>00:00</td>\n",
       "    </tr>\n",
       "    <tr>\n",
       "      <td>21</td>\n",
       "      <td>0.350004</td>\n",
       "      <td>0.206788</td>\n",
       "      <td>0.905556</td>\n",
       "      <td>00:00</td>\n",
       "    </tr>\n",
       "    <tr>\n",
       "      <td>22</td>\n",
       "      <td>0.330704</td>\n",
       "      <td>0.206127</td>\n",
       "      <td>0.911111</td>\n",
       "      <td>00:00</td>\n",
       "    </tr>\n",
       "    <tr>\n",
       "      <td>23</td>\n",
       "      <td>0.313338</td>\n",
       "      <td>0.206280</td>\n",
       "      <td>0.911111</td>\n",
       "      <td>00:00</td>\n",
       "    </tr>\n",
       "    <tr>\n",
       "      <td>24</td>\n",
       "      <td>0.297203</td>\n",
       "      <td>0.205738</td>\n",
       "      <td>0.905556</td>\n",
       "      <td>00:00</td>\n",
       "    </tr>\n",
       "  </tbody>\n",
       "</table>"
      ],
      "text/plain": [
       "<IPython.core.display.HTML object>"
      ]
     },
     "metadata": {},
     "output_type": "display_data"
    },
    {
     "data": {
      "image/png": "[encoded data removed]",
      "text/plain": [
       "<Figure size 864x288 with 2 Axes>"
      ]
     },
     "metadata": {
      "needs_background": "light"
     },
     "output_type": "display_data"
    }
   ],
   "source": [
    "wandb.config.dsid = ifnone(wandb.config.get('dsid'), 'NATOPS')\n",
    "X, y, splits = get_UCR_data(wandb.config.dsid, return_split=False)\n",
    "tfms  = [None, [Categorize()]]\n",
    "dsets = TSDatasets(X, y, tfms=tfms, splits=splits, inplace=True)\n",
    "dls   = TSDataLoaders.from_dsets(dsets.train, dsets.valid, bs=[64, 128], batch_tfms=[TSStandardize()], num_workers=0)\n",
    "wandb.config.arch = ifnone(wandb.config.get('arch'), 'InceptionTime')\n",
    "k = {}\n",
    "model = create_model(eval(wandb.config.arch), dls=dls, **k)\n",
    "learn = Learner(dls, model, metrics=accuracy)\n",
    "learn.fit_one_cycle(25, lr_max=1e-3, cbs=[WandbCallback()])\n",
    "learn.recorder.plot_metrics()"
   ]
  }
 ],
 "metadata": {
  "kernelspec": {
   "display_name": "Python 3",
   "language": "python",
   "name": "python3"
  },
  "language_info": {
   "codemirror_mode": {
    "name": "ipython",
    "version": 3
   },
   "file_extension": ".py",
   "mimetype": "text/x-python",
   "name": "python",
   "nbconvert_exporter": "python",
   "pygments_lexer": "ipython3",
   "version": "3.6.9"
  },
  "papermill": {
   "default_parameters": {},
   "duration": 20.920153,
   "end_time": "2020-11-26T16:17:24.730953",
   "environment_variables": {},
   "exception": null,
   "input_path": "./_example_tsai.ipynb",
   "output_path": "__.ipynb",
   "parameters": {},
   "start_time": "2020-11-26T16:17:03.810800",
   "version": "2.2.2"
  },
  "widgets": {
   "application/vnd.jupyter.widget-state+json": {
    "state": {
     "0469a3e075114085801fa3c16fdf59f5": {
      "model_module": "@jupyter-widgets/controls",
      "model_module_version": "1.5.0",
      "model_name": "DescriptionStyleModel",
      "state": {
       "_model_module": "@jupyter-widgets/controls",
       "_model_module_version": "1.5.0",
       "_model_name": "DescriptionStyleModel",
       "_view_count": null,
       "_view_module": "@jupyter-widgets/base",
       "_view_module_version": "1.2.0",
       "_view_name": "StyleView",
       "description_width": ""
      }
     },
     "2b3a9f9aa88b47509febf44e7bb072a3": {
      "model_module": "@jupyter-widgets/controls",
      "model_module_version": "1.5.0",
      "model_name": "VBoxModel",
      "state": {
       "_dom_classes": [],
       "_model_module": "@jupyter-widgets/controls",
       "_model_module_version": "1.5.0",
       "_model_name": "VBoxModel",
       "_view_count": null,
       "_view_module": "@jupyter-widgets/controls",
       "_view_module_version": "1.5.0",
       "_view_name": "VBoxView",
       "box_style": "",
       "children": [
        "IPY_MODEL_300466e5c5664ecc92c238f5be467c5d",
        "IPY_MODEL_79520d09dc0c4a698089d314986d52e0"
       ],
       "layout": "IPY_MODEL_b97e1bb408944478abbe18f3c983dad2"
      }
     },
     "300466e5c5664ecc92c238f5be467c5d": {
      "model_module": "@jupyter-widgets/controls",
      "model_module_version": "1.5.0",
      "model_name": "LabelModel",
      "state": {
       "_dom_classes": [],
       "_model_module": "@jupyter-widgets/controls",
       "_model_module_version": "1.5.0",
       "_model_name": "LabelModel",
       "_view_count": null,
       "_view_module": "@jupyter-widgets/controls",
       "_view_module_version": "1.5.0",
       "_view_name": "LabelView",
       "description": "",
       "description_tooltip": null,
       "layout": "IPY_MODEL_ab4e71365abe4693a1ae24eeab34bd04",
       "placeholder": "​",
       "style": "IPY_MODEL_0469a3e075114085801fa3c16fdf59f5",
       "value": ""
      }
     },
     "79520d09dc0c4a698089d314986d52e0": {
      "model_module": "@jupyter-widgets/controls",
      "model_module_version": "1.5.0",
      "model_name": "FloatProgressModel",
      "state": {
       "_dom_classes": [],
       "_model_module": "@jupyter-widgets/controls",
       "_model_module_version": "1.5.0",
       "_model_name": "FloatProgressModel",
       "_view_count": null,
       "_view_module": "@jupyter-widgets/controls",
       "_view_module_version": "1.5.0",
       "_view_name": "ProgressView",
       "bar_style": "",
       "description": "",
       "description_tooltip": null,
       "layout": "IPY_MODEL_d340cda8296c4f08884deee6e573da51",
       "max": 1.0,
       "min": 0.0,
       "orientation": "horizontal",
       "style": "IPY_MODEL_9d9d70b923e24c48bdc861f5e4f93bcd",
       "value": 0.0
      }
     },
     "9d9d70b923e24c48bdc861f5e4f93bcd": {
      "model_module": "@jupyter-widgets/controls",
      "model_module_version": "1.5.0",
      "model_name": "ProgressStyleModel",
      "state": {
       "_model_module": "@jupyter-widgets/controls",
       "_model_module_version": "1.5.0",
       "_model_name": "ProgressStyleModel",
       "_view_count": null,
       "_view_module": "@jupyter-widgets/base",
       "_view_module_version": "1.2.0",
       "_view_name": "StyleView",
       "bar_color": null,
       "description_width": ""
      }
     },
     "ab4e71365abe4693a1ae24eeab34bd04": {
      "model_module": "@jupyter-widgets/base",
      "model_module_version": "1.2.0",
      "model_name": "LayoutModel",
      "state": {
       "_model_module": "@jupyter-widgets/base",
       "_model_module_version": "1.2.0",
       "_model_name": "LayoutModel",
       "_view_count": null,
       "_view_module": "@jupyter-widgets/base",
       "_view_module_version": "1.2.0",
       "_view_name": "LayoutView",
       "align_content": null,
       "align_items": null,
       "align_self": null,
       "border": null,
       "bottom": null,
       "display": null,
       "flex": null,
       "flex_flow": null,
       "grid_area": null,
       "grid_auto_columns": null,
       "grid_auto_flow": null,
       "grid_auto_rows": null,
       "grid_column": null,
       "grid_gap": null,
       "grid_row": null,
       "grid_template_areas": null,
       "grid_template_columns": null,
       "grid_template_rows": null,
       "height": null,
       "justify_content": null,
       "justify_items": null,
       "left": null,
       "margin": null,
       "max_height": null,
       "max_width": null,
       "min_height": null,
       "min_width": null,
       "object_fit": null,
       "object_position": null,
       "order": null,
       "overflow": null,
       "overflow_x": null,
       "overflow_y": null,
       "padding": null,
       "right": null,
       "top": null,
       "visibility": null,
       "width": null
      }
     },
     "b97e1bb408944478abbe18f3c983dad2": {
      "model_module": "@jupyter-widgets/base",
      "model_module_version": "1.2.0",
      "model_name": "LayoutModel",
      "state": {
       "_model_module": "@jupyter-widgets/base",
       "_model_module_version": "1.2.0",
       "_model_name": "LayoutModel",
       "_view_count": null,
       "_view_module": "@jupyter-widgets/base",
       "_view_module_version": "1.2.0",
       "_view_name": "LayoutView",
       "align_content": null,
       "align_items": null,
       "align_self": null,
       "border": null,
       "bottom": null,
       "display": null,
       "flex": null,
       "flex_flow": null,
       "grid_area": null,
       "grid_auto_columns": null,
       "grid_auto_flow": null,
       "grid_auto_rows": null,
       "grid_column": null,
       "grid_gap": null,
       "grid_row": null,
       "grid_template_areas": null,
       "grid_template_columns": null,
       "grid_template_rows": null,
       "height": null,
       "justify_content": null,
       "justify_items": null,
       "left": null,
       "margin": null,
       "max_height": null,
       "max_width": null,
       "min_height": null,
       "min_width": null,
       "object_fit": null,
       "object_position": null,
       "order": null,
       "overflow": null,
       "overflow_x": null,
       "overflow_y": null,
       "padding": null,
       "right": null,
       "top": null,
       "visibility": null,
       "width": null
      }
     },
     "d340cda8296c4f08884deee6e573da51": {
      "model_module": "@jupyter-widgets/base",
      "model_module_version": "1.2.0",
      "model_name": "LayoutModel",
      "state": {
       "_model_module": "@jupyter-widgets/base",
       "_model_module_version": "1.2.0",
       "_model_name": "LayoutModel",
       "_view_count": null,
       "_view_module": "@jupyter-widgets/base",
       "_view_module_version": "1.2.0",
       "_view_name": "LayoutView",
       "align_content": null,
       "align_items": null,
       "align_self": null,
       "border": null,
       "bottom": null,
       "display": null,
       "flex": null,
       "flex_flow": null,
       "grid_area": null,
       "grid_auto_columns": null,
       "grid_auto_flow": null,
       "grid_auto_rows": null,
       "grid_column": null,
       "grid_gap": null,
       "grid_row": null,
       "grid_template_areas": null,
       "grid_template_columns": null,
       "grid_template_rows": null,
       "height": null,
       "justify_content": null,
       "justify_items": null,
       "left": null,
       "margin": null,
       "max_height": null,
       "max_width": null,
       "min_height": null,
       "min_width": null,
       "object_fit": null,
       "object_position": null,
       "order": null,
       "overflow": null,
       "overflow_x": null,
       "overflow_y": null,
       "padding": null,
       "right": null,
       "top": null,
       "visibility": null,
       "width": null
      }
     }
    },
    "version_major": 2,
    "version_minor": 0
   }
  }
 },
 "nbformat": 4,
 "nbformat_minor": 4
}