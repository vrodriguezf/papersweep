{
 "cells": [
  {
   "cell_type": "code",
   "execution_count": null,
   "metadata": {},
   "outputs": [],
   "source": [
    "# default_exp cli"
   ]
  },
  {
   "cell_type": "markdown",
   "metadata": {},
   "source": [
    "# papersweep\n",
    "\n",
    "> Combining papermill and wandb sweeps for fricitionless experimebnts with Jupyter notebooks"
   ]
  },
  {
   "cell_type": "code",
   "execution_count": null,
   "metadata": {},
   "outputs": [],
   "source": [
    "#hide\n",
    "from nbdev.showdoc import *"
   ]
  },
  {
   "cell_type": "code",
   "execution_count": null,
   "metadata": {},
   "outputs": [],
   "source": [
    "#export\n",
    "from fastcore.all import *\n",
    "import yaml\n",
    "import wandb\n",
    "import papermill as pm"
   ]
  },
  {
   "cell_type": "code",
   "execution_count": null,
   "metadata": {},
   "outputs": [],
   "source": [
    "#export\n",
    "@call_parse\n",
    "def papersweep_exec(input_nb:Param(\"Input notebook\", str),\n",
    "                    sweep_config:Param(\"YAML file with the sweep config\", str), \n",
    "                    entity:Param(\"wandb entity\", str), \n",
    "                    project:Param(\"wandb project\", str),\n",
    "                    pm_params:Param(\"YAML file with papermill parameters\", str)=None,\n",
    "                    sweep_id:Param(\"Sweep ID. This option omits `sweep_config`\", str)=None, \n",
    "                    login_key:Param(\"Login key for wandb\", str)=None):\n",
    "    \"\"\"\n",
    "        Executes the notebook `input_nb` with the sweep configuration given in \n",
    "        `sweep_config`. Optionally, in case the notebook has one cell tagged as \n",
    "        'parameters', those will be injected from the file `pm_params`.\n",
    "    \"\"\"\n",
    "    if login_key:\n",
    "        wandb.login(key=login_key)\n",
    "    with maybe_open(sweep_config, 'r') as f:\n",
    "        sc = yaml.safe_load(f)\n",
    "    if pm_params:\n",
    "        with maybe_open(pm_params, 'r') as f:\n",
    "            _pm_params = yaml.safe_load(f)\n",
    "    else:\n",
    "        _pm_params = None\n",
    "    sid = wandb.sweep(sweep=sc, entity=entity, project=project) if not sweep_id else sweep_id\n",
    "    sweep_agent = wandb.agent(sid,\n",
    "                              function=partial(pm.execute_notebook,  \n",
    "                                               input_path=input_nb, \n",
    "                                               output_path='__.ipynb', \n",
    "                                               parameters=_pm_params))\n",
    "    return sid"
   ]
  },
  {
   "cell_type": "code",
   "execution_count": null,
   "metadata": {},
   "outputs": [
    {
     "name": "stderr",
     "output_type": "stream",
     "text": [
      "Failed to query for notebook name, you can set it manually with the WANDB_NOTEBOOK_NAME environment variable\n"
     ]
    },
    {
     "name": "stdout",
     "output_type": "stream",
     "text": [
      "Create sweep with ID: phxne5fd\n",
      "Sweep URL: https://wandb.ai/vrodriguezf/papersweep/sweeps/phxne5fd\n"
     ]
    },
    {
     "name": "stderr",
     "output_type": "stream",
     "text": [
      "\u001b[34m\u001b[1mwandb\u001b[0m: Agent Starting Run: tdt3crx3 with config:\n",
      "\u001b[34m\u001b[1mwandb\u001b[0m: \tarch: ResNet\n",
      "\u001b[34m\u001b[1mwandb\u001b[0m: \tdsid: NATOPS\n"
     ]
    },
    {
     "data": {
      "application/vnd.jupyter.widget-view+json": {
       "model_id": "4ce1de832b4b42ec9b30a20db317ac5b",
       "version_major": 2,
       "version_minor": 0
      },
      "text/plain": [
       "Executing:   0%|          | 0/7 [00:00<?, ?cell/s]"
      ]
     },
     "metadata": {},
     "output_type": "display_data"
    },
    {
     "name": "stderr",
     "output_type": "stream",
     "text": [
      "Run tdt3crx3 errored: ImportError(\"cannot import name 'AsyncKernelManager'\",)\n",
      "\u001b[34m\u001b[1mwandb\u001b[0m: \u001b[32m\u001b[41mERROR\u001b[0m Run tdt3crx3 errored: ImportError(\"cannot import name 'AsyncKernelManager'\",)\n",
      "\u001b[34m\u001b[1mwandb\u001b[0m: Sweep Agent: Waiting for job.\n",
      "\u001b[34m\u001b[1mwandb\u001b[0m: Job received.\n",
      "\u001b[34m\u001b[1mwandb\u001b[0m: Agent Starting Run: hda0uekn with config:\n",
      "\u001b[34m\u001b[1mwandb\u001b[0m: \tarch: ResNet\n",
      "\u001b[34m\u001b[1mwandb\u001b[0m: \tdsid: GunPoint\n"
     ]
    },
    {
     "data": {
      "application/vnd.jupyter.widget-view+json": {
       "model_id": "096d9dc4f0d643cc896bb4cf1dd90c9b",
       "version_major": 2,
       "version_minor": 0
      },
      "text/plain": [
       "Executing:   0%|          | 0/7 [00:00<?, ?cell/s]"
      ]
     },
     "metadata": {},
     "output_type": "display_data"
    },
    {
     "name": "stderr",
     "output_type": "stream",
     "text": [
      "Run hda0uekn errored: ImportError(\"cannot import name 'AsyncKernelManager'\",)\n",
      "\u001b[34m\u001b[1mwandb\u001b[0m: \u001b[32m\u001b[41mERROR\u001b[0m Run hda0uekn errored: ImportError(\"cannot import name 'AsyncKernelManager'\",)\n",
      "\u001b[34m\u001b[1mwandb\u001b[0m: Agent Starting Run: anlv1s0s with config:\n",
      "\u001b[34m\u001b[1mwandb\u001b[0m: \tarch: ResNet\n",
      "\u001b[34m\u001b[1mwandb\u001b[0m: \tdsid: OliveOil\n"
     ]
    },
    {
     "data": {
      "application/vnd.jupyter.widget-view+json": {
       "model_id": "6f2355c3410546ad9d22597f9f7fb0e2",
       "version_major": 2,
       "version_minor": 0
      },
      "text/plain": [
       "Executing:   0%|          | 0/7 [00:00<?, ?cell/s]"
      ]
     },
     "metadata": {},
     "output_type": "display_data"
    },
    {
     "name": "stderr",
     "output_type": "stream",
     "text": [
      "Run anlv1s0s errored: ImportError(\"cannot import name 'AsyncKernelManager'\",)\n",
      "\u001b[34m\u001b[1mwandb\u001b[0m: \u001b[32m\u001b[41mERROR\u001b[0m Run anlv1s0s errored: ImportError(\"cannot import name 'AsyncKernelManager'\",)\n",
      "Detected 3 failed runs in the first 60 seconds, killing sweep.\n",
      "\u001b[34m\u001b[1mwandb\u001b[0m: \u001b[32m\u001b[41mERROR\u001b[0m Detected 3 failed runs in the first 60 seconds, killing sweep.\n",
      "\u001b[34m\u001b[1mwandb\u001b[0m: To disable this check set WANDB_AGENT_DISABLE_FLAPPING=true\n"
     ]
    }
   ],
   "source": [
    "#slow\n",
    "a = papersweep_exec(input_nb='./_example_tsai.ipynb', \n",
    "               sweep_config='examples/sweep_config.yaml',\n",
    "               entity='vrodriguezf', \n",
    "               project='papersweep', \n",
    "               pm_params='examples/run_config.yaml')"
   ]
  },
  {
   "cell_type": "code",
   "execution_count": null,
   "metadata": {},
   "outputs": [],
   "source": [
    "with maybe_open('examples/run_config.yaml', 'r') as f:\n",
    "    rc = yaml.safe_load(f)"
   ]
  },
  {
   "cell_type": "code",
   "execution_count": null,
   "metadata": {},
   "outputs": [
    {
     "name": "stdout",
     "output_type": "stream",
     "text": [
      "Converted 00_cli.ipynb.\n",
      "Converted index.ipynb.\n"
     ]
    }
   ],
   "source": [
    "#hide\n",
    "from nbdev.export import notebook2script\n",
    "notebook2script()"
   ]
  }
 ],
 "metadata": {
  "kernelspec": {
   "display_name": "Python 3",
   "language": "python",
   "name": "python3"
  }
 },
 "nbformat": 4,
 "nbformat_minor": 4
}
