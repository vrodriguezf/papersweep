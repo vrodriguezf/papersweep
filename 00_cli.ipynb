{
 "cells": [
  {
   "cell_type": "code",
   "execution_count": 2,
   "metadata": {},
   "outputs": [],
   "source": [
    "# default_exp cli"
   ]
  },
  {
   "cell_type": "markdown",
   "metadata": {},
   "source": [
    "# papersweep\n",
    "\n",
    "> Combining papermill and wandb sweeps for fricitionless experimebnts with Jupyter notebooks"
   ]
  },
  {
   "cell_type": "code",
   "execution_count": 3,
   "metadata": {},
   "outputs": [],
   "source": [
    "#hide\n",
    "from nbdev.showdoc import *"
   ]
  },
  {
   "cell_type": "code",
   "execution_count": 4,
   "metadata": {},
   "outputs": [],
   "source": [
    "#export\n",
    "from fastcore.all import *\n",
    "import yaml\n",
    "import wandb\n",
    "import papermill as pm"
   ]
  },
  {
   "cell_type": "code",
   "execution_count": 24,
   "metadata": {},
   "outputs": [],
   "source": [
    "#export\n",
    "@call_parse\n",
    "def papersweep_exec(input_nb:Param(\"Input notebook\", str),\n",
    "               sweep_config:Param(\"YAML file with the sweep config\", str), \n",
    "               entity:Param(\"wandb entity\", str), \n",
    "               project:Param(\"wandb project\", str),\n",
    "               pm_params:Param(\"YAML file with papermill parameters\", str)=None,\n",
    "               sweep_id:Param(\"Sweep ID. This option omits `sweep_config`\", str)=None):\n",
    "    with maybe_open(sweep_config, 'r') as f:\n",
    "        sc = yaml.safe_load(f)\n",
    "    if pm_params:\n",
    "        with maybe_open(pm_params, 'r') as f:\n",
    "            _pm_params = yaml.safe_load(f)\n",
    "    sid = wandb.sweep(sweep=sc, entity=entity, project=project) if not sweep_id else sweep_id\n",
    "    sweep_agent = wandb.agent(sid,\n",
    "                              function=partial(pm.execute_notebook,  \n",
    "                                               input_path=input_nb, \n",
    "                                               output_path='__.ipynb', \n",
    "                                               parameters=_pm_params))"
   ]
  },
  {
   "cell_type": "code",
   "execution_count": 7,
   "metadata": {},
   "outputs": [
    {
     "name": "stdout",
     "output_type": "stream",
     "text": [
      "Create sweep with ID: 95ov7rwp\n",
      "Sweep URL: https://wandb.ai/vrodriguezf/papersweep/sweeps/95ov7rwp\n"
     ]
    },
    {
     "name": "stderr",
     "output_type": "stream",
     "text": [
      "\u001b[34m\u001b[1mwandb\u001b[0m: Agent Starting Run: 9lw98ouv with config:\n",
      "\u001b[34m\u001b[1mwandb\u001b[0m: \tarch: OmniScaleCNN\n",
      "Run 9lw98ouv errored: ValueError('dictionary update sequence element #0 has length 1; 2 is required',)\n",
      "\u001b[34m\u001b[1mwandb\u001b[0m: \u001b[32m\u001b[41mERROR\u001b[0m Run 9lw98ouv errored: ValueError('dictionary update sequence element #0 has length 1; 2 is required',)\n",
      "\u001b[34m\u001b[1mwandb\u001b[0m: Sweep Agent: Waiting for job.\n",
      "\u001b[34m\u001b[1mwandb\u001b[0m: Job received.\n",
      "\u001b[34m\u001b[1mwandb\u001b[0m: Agent Starting Run: 22zkogsa with config:\n",
      "\u001b[34m\u001b[1mwandb\u001b[0m: \tarch: ResNet\n",
      "Run 22zkogsa errored: ValueError('dictionary update sequence element #0 has length 1; 2 is required',)\n",
      "\u001b[34m\u001b[1mwandb\u001b[0m: \u001b[32m\u001b[41mERROR\u001b[0m Run 22zkogsa errored: ValueError('dictionary update sequence element #0 has length 1; 2 is required',)\n",
      "\u001b[34m\u001b[1mwandb\u001b[0m: Agent Starting Run: jbmp1mcy with config:\n",
      "\u001b[34m\u001b[1mwandb\u001b[0m: \tarch: LSTM_FCN\n",
      "Run jbmp1mcy errored: ValueError('dictionary update sequence element #0 has length 1; 2 is required',)\n",
      "\u001b[34m\u001b[1mwandb\u001b[0m: \u001b[32m\u001b[41mERROR\u001b[0m Run jbmp1mcy errored: ValueError('dictionary update sequence element #0 has length 1; 2 is required',)\n",
      "Detected 3 failed runs in the first 60 seconds, killing sweep.\n",
      "\u001b[34m\u001b[1mwandb\u001b[0m: \u001b[32m\u001b[41mERROR\u001b[0m Detected 3 failed runs in the first 60 seconds, killing sweep.\n",
      "\u001b[34m\u001b[1mwandb\u001b[0m: To disable this check set WANDB_AGENT_DISABLE_FLAPPING=true\n"
     ]
    }
   ],
   "source": [
    "a = papersweep_exec(input_nb='./_example_tsai.ipynb', \n",
    "               sweep_config='examples/sweep_config.yaml',\n",
    "               entity='vrodriguezf', \n",
    "               project='papersweep', \n",
    "               pm_params='examples/run_config.yaml')"
   ]
  },
  {
   "cell_type": "code",
   "execution_count": 17,
   "metadata": {},
   "outputs": [],
   "source": [
    "with maybe_open('examples/run_config.yaml', 'r') as f:\n",
    "    rc = yaml.safe_load(f)"
   ]
  },
  {
   "cell_type": "code",
   "execution_count": 36,
   "metadata": {},
   "outputs": [
    {
     "name": "stdout",
     "output_type": "stream",
     "text": [
      "Converted 00_cli.ipynb.\n",
      "Converted index.ipynb.\n"
     ]
    }
   ],
   "source": [
    "#hide\n",
    "from nbdev.export import notebook2script\n",
    "notebook2script()"
   ]
  }
 ],
 "metadata": {
  "kernelspec": {
   "display_name": "Python 3",
   "language": "python",
   "name": "python3"
  },
  "language_info": {
   "codemirror_mode": {
    "name": "ipython",
    "version": 3
   },
   "file_extension": ".py",
   "mimetype": "text/x-python",
   "name": "python",
   "nbconvert_exporter": "python",
   "pygments_lexer": "ipython3",
   "version": "3.6.9"
  }
 },
 "nbformat": 4,
 "nbformat_minor": 4
}
